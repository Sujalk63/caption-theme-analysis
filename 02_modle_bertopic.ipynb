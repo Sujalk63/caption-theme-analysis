{
 "cells": [
  {
   "cell_type": "code",
   "execution_count": 1,
   "id": "8d6f634d",
   "metadata": {},
   "outputs": [],
   "source": [
    "import re\n",
    "import string\n",
    "import nltk\n",
    "import regex as re \n",
    "import pandas as pd \n",
    "from nltk.corpus import stopwords\n",
    "from nltk.tokenize import word_tokenize\n",
    "from nltk.tokenize import PunktSentenceTokenizer, word_tokenize\n",
    "from bertopic import BERTopic\n",
    "from sklearn.feature_extraction.text import CountVectorizer"
   ]
  },
  {
   "cell_type": "code",
   "execution_count": 2,
   "id": "4074b467",
   "metadata": {},
   "outputs": [],
   "source": [
    "file_path = r\"C:\\Users\\Sujal Karmakar\\Desktop\\Desktop\\Data Analyst\\Python\\python_data_analytics_project\\Theme Finder Using Caption (NLP)\\Data\\leanbeast_analysis_ready.csv\"\n",
    "\n",
    "df = pd.read_csv(file_path)"
   ]
  },
  {
   "cell_type": "markdown",
   "id": "ad4673a4",
   "metadata": {},
   "source": [
    "#### 1) Basic Cleaning (lower case, remover numbers, emoji, etc)"
   ]
  },
  {
   "cell_type": "code",
   "execution_count": 3,
   "id": "e5b6d281",
   "metadata": {},
   "outputs": [],
   "source": [
    "df_caption = df[\"caption_text\"]"
   ]
  },
  {
   "cell_type": "code",
   "execution_count": 4,
   "id": "4b5473a8",
   "metadata": {},
   "outputs": [],
   "source": [
    "import re\n",
    "\n",
    "# Your custom list of generic words and hashtags to remove (lowercase, no # for hashtags)\n",
    "generic_words = set([\n",
    "    \"fitness\", \"gym\", \"workout\", \"fitnessmotivation\", \"bodybuilding\", \"training\",\n",
    "    \"fit\", \"muscle\", \"fitfam\", \"gymlife\", \"shredded\", \"sixpack\",\n",
    "    \"fitspo\", \"personaltrainer\", \"fitnessmodel\", \"exercise\",\n",
    "    \"comment\", \"follow\", \"share\", \"message\", \"dm\", \"whatsapp\", \"send\",\n",
    "    \"will\", \"i\",\n",
    "    \"interested in paid transformation\", \"now\", \n",
    "    \"amazing\", \"total\", \"this is just an act\",\n",
    "    \"free diet plan\", \"zero\", \"link\", \"tap\", \"check\", \"list\"\n",
    "])\n",
    "\n",
    "# Optional: split multi-word phrases into words, or just handle them later as whole phrases.\n",
    "\n",
    "def clean_caption(text):\n",
    "    if pd.isna(text):\n",
    "        return \"\"\n",
    "    text = str(text).strip()\n",
    "    # Lowercase the text for uniformity\n",
    "    text_lower = text.lower()\n",
    "    \n",
    "    # Remove hashtags (#) before splitting, or treat hashtags specially\n",
    "    # Here, replace hashtags with words without #\n",
    "    text_lower = re.sub(r'#(\\w+)', r'\\1', text_lower)\n",
    "    \n",
    "    # Remove multiple spaces/newlines\n",
    "    text_lower = re.sub(r'\\s+', ' ', text_lower)\n",
    "    \n",
    "    # Remove the generic words from the text\n",
    "    # To handle multi-word phrases, we can do iterative replacement:\n",
    "    for phrase in generic_words:\n",
    "        # Use regex to replace whole words/phrases only (case insensitive)\n",
    "        # Add word boundaries \\b to avoid partial matches\n",
    "        pattern = r'\\b' + re.escape(phrase) + r'\\b'\n",
    "        text_lower = re.sub(pattern, '', text_lower, flags=re.IGNORECASE)\n",
    "    \n",
    "    # Clean extra spaces again after removals\n",
    "    text_lower = re.sub(r'\\s+', ' ', text_lower).strip()\n",
    "    \n",
    "    return text_lower\n",
    "\n",
    "# Apply to your caption column\n",
    "df_caption_cleaned = df_caption.apply(clean_caption)"
   ]
  },
  {
   "cell_type": "code",
   "execution_count": 5,
   "id": "3b59a61e",
   "metadata": {},
   "outputs": [
    {
     "data": {
      "text/plain": [
       "385                                    hung curd pure veg\n",
       "1141    itna chini m shocked ?? abs motivation gymmoti...\n",
       "1109       spotted a stranger doing wrong rear delt fly …\n",
       "283                                       lets break fast\n",
       "934     celebrating anniversary❤️ couple love couplego...\n",
       "316     jai maa vaishno devi🙏 vaishnodevi jaimatadi de...\n",
       "429     cholesterol is not ur enemy stop getting fooled ❌\n",
       "1470    6 pack abs … how many packs you own … 2,4,6,8 ...\n",
       "1261    following healthy lifestyle is easily achievab...\n",
       "1396    meh peche hat jaata hu abs motivation gymmotiv...\n",
       "1442    it’s here! the best sugar substitute of all ti...\n",
       "829                                 meh hi hu nature ☠️☠️\n",
       "1541    shoot mode make up by -@pawan_makeover shoot f...\n",
       "1404    perform.sustain.recover! introducing wellcore,...\n",
       "1514    hey guys are you ready for a challenge? let’s ...\n",
       "Name: caption_text, dtype: object"
      ]
     },
     "execution_count": 5,
     "metadata": {},
     "output_type": "execute_result"
    }
   ],
   "source": [
    "df_caption_cleaned.sample(15)"
   ]
  },
  {
   "cell_type": "markdown",
   "id": "38bd25b2",
   "metadata": {},
   "source": [
    "#### 2) Tokenization (removing stop words)"
   ]
  },
  {
   "cell_type": "code",
   "execution_count": 6,
   "id": "4e6e2767",
   "metadata": {},
   "outputs": [],
   "source": [
    "# import nltk\n",
    "\n",
    "# # Define a custom download directory\n",
    "# custom_nltk_path = r'C:\\Users\\Sujal Karmakar\\.conda\\envs\\DS\\nltk_data'\n",
    "\n",
    "# # Download resources to the custom path\n",
    "## nltk.download('punkt', download_dir=custom_nltk_path)\n",
    "# nltk.download('punkt_tab', download_dir=custom_nltk_path)\n",
    "# nltk.download('stopwords', download_dir=custom_nltk_path)\n",
    "\n",
    "# # Manually add the path to NLTK's search locations\n",
    "# nltk.data.path.append(custom_nltk_path)\n",
    "\n",
    "# i had to explicitly download these by specifying files and also punkt was not working for me nltk was demanding punkt_tab so i did that \n"
   ]
  },
  {
   "cell_type": "markdown",
   "id": "70213a3f",
   "metadata": {},
   "source": [
    "#### 3) Creating dictionaries and corpus for LDA (Linear discriminant analysis)"
   ]
  },
  {
   "cell_type": "code",
   "execution_count": 7,
   "id": "54a7289a",
   "metadata": {},
   "outputs": [
    {
     "name": "stderr",
     "output_type": "stream",
     "text": [
      "2025-06-01 00:19:39,170 - BERTopic - Embedding - Transforming documents to embeddings.\n"
     ]
    },
    {
     "data": {
      "application/vnd.jupyter.widget-view+json": {
       "model_id": "d2d28130fbe54493b1818cb6118b5b54",
       "version_major": 2,
       "version_minor": 0
      },
      "text/plain": [
       "Batches:   0%|          | 0/49 [00:00<?, ?it/s]"
      ]
     },
     "metadata": {},
     "output_type": "display_data"
    },
    {
     "name": "stderr",
     "output_type": "stream",
     "text": [
      "2025-06-01 00:19:51,508 - BERTopic - Embedding - Completed ✓\n",
      "2025-06-01 00:19:51,508 - BERTopic - Dimensionality - Fitting the dimensionality reduction algorithm\n",
      "2025-06-01 00:20:13,877 - BERTopic - Dimensionality - Completed ✓\n",
      "2025-06-01 00:20:13,878 - BERTopic - Cluster - Start clustering the reduced embeddings\n",
      "2025-06-01 00:20:13,926 - BERTopic - Cluster - Completed ✓\n",
      "2025-06-01 00:20:13,927 - BERTopic - Representation - Extracting topics using c-TF-IDF for topic reduction.\n",
      "2025-06-01 00:20:13,988 - BERTopic - Representation - Completed ✓\n",
      "2025-06-01 00:20:13,989 - BERTopic - Topic reduction - Reducing number of topics\n",
      "2025-06-01 00:20:13,999 - BERTopic - Representation - Fine-tuning topics using representation models.\n",
      "2025-06-01 00:20:14,041 - BERTopic - Representation - Completed ✓\n",
      "2025-06-01 00:20:14,043 - BERTopic - Topic reduction - Reduced number of topics from 29 to 10\n"
     ]
    },
    {
     "name": "stdout",
     "output_type": "stream",
     "text": [
      "   Topic  Count                                         Name  \\\n",
      "0     -1    456                           -1_you_and_body_to   \n",
      "1      0    544  0_motivation_lifestyle_health_gymmotivation   \n",
      "2      1    235                       1_sugar_protein_and_is   \n",
      "3      2     90                         2_paneer_eggs_in_you   \n",
      "4      3     70                      3_me_919171123324_on_or   \n",
      "5      4     62    4_wedding_photography_happy_photooftheday   \n",
      "6      5     33                       5_ice_icebath_the_bath   \n",
      "7      6     25                6_fasting_hours_autophagy_and   \n",
      "8      7     19                      7_agree_this_all_action   \n",
      "9      8     17        8_testosterone_steroids_increase_diet   \n",
      "\n",
      "                                      Representation  \\\n",
      "0  [you, and, body, to, your, of, the, abs, gains...   \n",
      "1  [motivation, lifestyle, health, gymmotivation,...   \n",
      "2  [sugar, protein, and, is, to, of, the, you, fo...   \n",
      "3  [paneer, eggs, in, you, inbox, and, egg, your,...   \n",
      "4  [me, 919171123324, on, or, natty, itna, mykono...   \n",
      "5  [wedding, photography, happy, photooftheday, l...   \n",
      "6  [ice, icebath, the, bath, and, cold, of, infla...   \n",
      "7  [fasting, hours, autophagy, and, start, cells,...   \n",
      "8  [agree, this, all, action, chose, louder, trut...   \n",
      "9  [testosterone, steroids, increase, diet, your,...   \n",
      "\n",
      "                                 Representative_Docs  \n",
      "0  [fasting and cancer ? abs motivation gymmotiva...  \n",
      "1  [my blood work … abs motivation gymmotivation ...  \n",
      "2  [are fruits juice healthy?? fruit juice is oft...  \n",
      "3  [“eggs” to receive 5 healthy egg’s recipe in y...  \n",
      "4  [hahha🤡☝️ ✅?? me or me on +919171123324 ✅, my ...  \n",
      "5  [❤️❤️ couple love couplegoals cute wedding hap...  \n",
      "6  [icebath time benefits reduces inflammation an...  \n",
      "7  [“fasting” and you a blueprint of how to do fa...  \n",
      "8  [who all agree??, this is reality guys agree??...  \n",
      "9  [“diet” and you a diet, which increase your te...  \n",
      "\n",
      "Topic 0:\n",
      "[('motivation', 0.05417710672507546), ('lifestyle', 0.05366492055784352), ('health', 0.05117679617225212), ('gymmotivation', 0.05068079303421413), ('model', 0.04693940513579532), ('abs', 0.045434234341622255), ('fitnessaddict', 0.04535577085255696), ('strong', 0.0452336046407016), ('body', 0.045137610696492074), ('instafit', 0.045031943354294786)]\n",
      "\n",
      "Topic 1:\n",
      "[('sugar', 0.0708183380866091), ('protein', 0.06327069489123495), ('and', 0.06131860316410216), ('is', 0.048020257940979603), ('to', 0.046747836524643926), ('of', 0.045365218799400295), ('the', 0.042975394208388654), ('you', 0.04198299759741211), ('for', 0.03575985518520933), ('cholesterol', 0.034917755778857)]\n",
      "\n",
      "Topic 2:\n",
      "[('paneer', 0.12023392617316893), ('eggs', 0.10333648615774167), ('in', 0.10082193792575493), ('you', 0.10015026046451499), ('inbox', 0.09329412383440804), ('and', 0.08794036556059963), ('egg', 0.08065956479588988), ('your', 0.06908970223987337), ('recipe', 0.06443008710732691), ('of', 0.056433641428256354)]\n",
      "\n",
      "Topic 3:\n",
      "[('me', 0.29713958067572555), ('919171123324', 0.21017572285461322), ('on', 0.20502610900258106), ('or', 0.1794330491194738), ('natty', 0.08392046491086304), ('itna', 0.08148374585180697), ('mykonos', 0.06411796110866014), ('hahha', 0.06411796110866014), ('2018', 0.06050113246878304), ('bar', 0.05793593678500359)]\n",
      "\n",
      "Topic 4:\n",
      "[('wedding', 0.11031974774852067), ('photography', 0.1064424777496228), ('happy', 0.10376996377016605), ('photooftheday', 0.09916619207222821), ('love', 0.09714596835501228), ('beautiful', 0.09641157562577743), ('weddingphotography', 0.09166495374606959), ('bride', 0.09166495374606959), ('instagram', 0.08970012593104877), ('kiss', 0.08943072137292894)]\n",
      "\n",
      "Topic 5:\n",
      "[('ice', 0.09203945149035556), ('icebath', 0.07399977982077134), ('the', 0.07154371468318865), ('bath', 0.06507738060634598), ('and', 0.05208339069976159), ('cold', 0.05142178876140798), ('of', 0.04700148643954173), ('inflammation', 0.045873914615952145), ('benefits', 0.0457106916957257), ('improves', 0.04495816204321968)]\n",
      "\n",
      "Topic 6:\n",
      "[('fasting', 0.23532911568796985), ('hours', 0.16426475202217639), ('autophagy', 0.11208847623706819), ('and', 0.08154470261073783), ('start', 0.07938723205630374), ('cells', 0.07602016490944419), ('to', 0.06779554665368218), ('your', 0.06652903495405989), ('you', 0.0664840468744807), ('blueprint', 0.06595960199091103)]\n",
      "\n",
      "Topic 7:\n",
      "[('agree', 0.1756726339180493), ('this', 0.14018929991777862), ('all', 0.12183344389158231), ('action', 0.11930270272128032), ('chose', 0.11930270272128032), ('louder', 0.11930270272128032), ('truth', 0.11930270272128032), ('posing', 0.11930270272128032), ('finished', 0.11930270272128032), ('speaks', 0.11930270272128032)]\n",
      "\n",
      "Topic 8:\n",
      "[('testosterone', 0.27276527139098544), ('steroids', 0.10478970100299324), ('increase', 0.10137685501344593), ('diet', 0.08803003424226113), ('your', 0.08253602080766828), ('and', 0.07418728583382915), ('free', 0.0720435343746429), ('levels', 0.0695541325731768), ('sex', 0.06861789124362692), ('boost', 0.06405781937916742)]\n"
     ]
    }
   ],
   "source": [
    "from bertopic import BERTopic\n",
    "\n",
    "# Make sure df_caption_cleaned is a list of strings (captions)\n",
    "documents = df_caption_cleaned.tolist()\n",
    "\n",
    "# Option 1: Directly set nr_topics=12 when initializing the model\n",
    "topic_model = BERTopic(language=\"english\", nr_topics=10, verbose=True)\n",
    "\n",
    "# Fit the model on your cleaned caption texts\n",
    "topics, probs = topic_model.fit_transform(documents)\n",
    "\n",
    "# Show the topic info (topic number, count, name)\n",
    "topic_info = topic_model.get_topic_info()\n",
    "print(topic_info)\n",
    "\n",
    "\n",
    "# Show the top words for each topic except -1 (noise)\n",
    "for topic_num in topic_info['Topic']:\n",
    "    if topic_num != -1:  # -1 is the noise topic\n",
    "        print(f\"\\nTopic {topic_num}:\")\n",
    "        print(topic_model.get_topic(topic_num))\n"
   ]
  },
  {
   "cell_type": "code",
   "execution_count": 8,
   "id": "db538520",
   "metadata": {},
   "outputs": [],
   "source": [
    "with open(\"bertopic_topics.txt\", \"w\", encoding=\"utf-8\") as f:\n",
    "    for idx, topic in topic_model.get_topic_info().iterrows():\n",
    "        f.write(f\"Topic {topic['Topic']} (Count: {topic['Count']}):\\n\")\n",
    "        terms = topic_model.get_topic(topic['Topic'])\n",
    "        for term, weight in terms:\n",
    "            f.write(f\"  {term}: {weight:.4f}\\n\")\n",
    "        f.write(\"\\n\")"
   ]
  },
  {
   "cell_type": "code",
   "execution_count": 9,
   "id": "d2683da5",
   "metadata": {},
   "outputs": [],
   "source": [
    "# Mapping topic IDs to clear, professional names\n",
    "topic_labels = {\n",
    "    -1: \"Fitness Discussions\",\n",
    "     0: \"Body Building & Guidance\",\n",
    "     1: \"Sugar & Health Awareness\",\n",
    "     2: \"Healthy Recipes & Nutrition\",\n",
    "     3: \"Miscellaneous Topics\",\n",
    "     4: \"Fitness & Lifestyle\",\n",
    "     5: \"Body Recovery & Wellness\",\n",
    "     6: \"Blueprint/Recipes (Comment Engagament)\",\n",
    "     7: \"Personal Reflections\",\n",
    "     8: \"Hydration Tips\"\n",
    "}\n",
    "\n",
    "# Add the human-readable topic name to the dataframe\n",
    "df_result = pd.DataFrame({\n",
    "    \"Caption\": df_caption,\n",
    "    \"Topic_ID\": topics\n",
    "})\n",
    "df_result[\"Topic_Name\"] = df_result[\"Topic_ID\"].map(topic_labels)\n"
   ]
  },
  {
   "cell_type": "code",
   "execution_count": 10,
   "id": "de79510c",
   "metadata": {},
   "outputs": [
    {
     "name": "stdout",
     "output_type": "stream",
     "text": [
      "\n",
      "🔷 Topic: Body Building & Guidance\n",
      "  1. Post from 2019 #timesofindia\n",
      "  2. And we took it SERIOUSLY 😹  #fitcouple #fitness #couplegoals #fitnessmotivation #fit #love #fitfam #workout #motivation #bodybuilding #gym #couple #fitlife #fitgirl #gymlife #healthylifestyle #training #fitnessjourney #fitcouplegoals #fitmom #muscle #fitspo #lifestyle #fitnessmodel #instafit #fitnessaddict #gymmotivation #personaltrainer #healthy #bhfyp\n",
      "  3. Maa ka pyaar ❤️\n",
      "  4. Bhai kya kar rahe ho?? @imgauravchander\n",
      "  5. What happen when you leave sugar for 3 months…  Zero sugar means low carbs ….   #abs #fitness #gym #workout #bodybuilding #fit #fitnessmotivation #motivation #muscle #fitnessmodel #fitfam #gymlife #training #gymmotivation #shredded #instafit #sixpack #model #strong #body #fitnessaddict #fitspo #gains #biceps #lifestyle #cardio #exercise #personaltrainer #health #bodybuilder\n",
      "\n",
      "🔷 Topic: Miscellaneous Topics\n",
      "  1. Comment now\n",
      "  2. Afsoos😔😔\n",
      "  3. Abs☝️❤️\n",
      "  4. Har har mahadev💪🏻\n",
      "  5. Natty💯\n",
      "\n",
      "🔷 Topic: Healthy Recipes & Nutrition\n",
      "  1. How my yesterday dinner looked😉\n",
      "  2. Comment “Paneer” and i will send you some more paneer dishes .\n",
      "  3. Comment “Buffet” and i will send you 5 healthy options available in buffet in your inbox\n",
      "  4. I prefer local food when ever i travel rather than spending money on lavish restaurants\n",
      "  5. Comment “Bread” and i will send you almond bread recipe in your inbox\n",
      "\n",
      "🔷 Topic: Fitness & Lifestyle\n",
      "  1. Happy holi guys❤️☝️\n",
      "  2. Comment your Fav look.. 1,2 or both???\n",
      "  3. Celebrating Anniversary❤️ #couple #love #couplegoals #cute #wedding #happy #instagood #photography #couples #kiss #together #photooftheday #beautiful #like #boyfriend #instagram #forever #girlfriend #romance #girl #smile #follow #relationshipgoals #instalove #bride #loveyou #fun #couplelove #weddingphotography #kisses\n",
      "  4. When he is 6’3 and she is 5’4 #couple #love #couplegoals #cute #wedding #happy #instagood #photography #couples #kiss #together #photooftheday #beautiful #like #boyfriend #instagram #forever #girlfriend #romance #girl #smile #follow #relationshipgoals #instalove #bride #loveyou #fun #couplelove #weddingphotography #kisses\n",
      "  5. Here’s to another year of love, laughter, and unforgettable memories with my favorite person by my side. Cheers to 2025—may it be filled with more adventures, joy, and all the little moments that make life amazing. Happy New Year Everyone 🥂#HappyNewYear #NewYearWithYou #ForeverUs\n",
      "\n",
      "🔷 Topic: Fitness Discussions\n",
      "  1. Hijama done for body detox from @happy_health_physio contact him only in delhi NCR …   Benefits of hijama..  Arthritis, including rheumatoid arthritis. Back pain, neck pain, knee pain and shoulder pain. Breathing problems, such as asthma. Carpal tunnel syndrome. Gastrointestinal disorders, such as irritable bowel disease (IBD). Headaches and migraines. High blood pressure (hypertension).  #abs #fitness #gym #workout #bodybuilding #fit #fitnessmotivation #motivation #muscle #fitnessmodel #fitfam #gymlife #training #gymmotivation #shredded #instafit #sixpack #model #strong #body #fitnessaddict #fitspo #gains #biceps #lifestyle #cardio #exercise #personaltrainer #health #bodybuilder\n",
      "  2. Intermittent fasting is a key to fatloss well done friend   #weightloss #weightlossjourney #transformation #weightlosstransformation #newyearsresolution #fatloss #bodytransformation #getfit #transformationtuesday #weightlossmotivation #caloriedeficit #dietplan #newyearsresolutions #weightlosstips #30303challenge #weights #weightlossinspiration #weightlosscommunity #lifestylechange #weightlosschallenge #lowcalorie #fitnessjourney #weightlossdiet #extremeweightloss #fatlosstips #beforeandafterweightloss #musclegain #weightlosssupport #losingweight #accountability\n",
      "  3. Do i give a damm about them??? Never\n",
      "  4. How much water is required to hydrate??  Disclaimer- THIS VIDEO IS FOR NORMAL INDIVIDUAL\n",
      "  5. Quads muscle let's understand ...  #abs #fitness #gym #workout #bodybuilding #fit #fitnessmotivation #motivation #muscle #fitnessmodel #fitfam #gymlife #training #gymmotivation #shredded #instafit #sixpack #model #strong #body #fitnessaddict #fitspo #gains #biceps #lifestyle #cardio #exercise #personaltrainer #health #bodybuilder\n",
      "\n",
      "🔷 Topic: Sugar & Health Awareness\n",
      "  1. Tryings DUBAI’s  Viral Chocolate Kunafa and its sugar content??\n",
      "  2. Chai sugar??\n",
      "  3. Diabetes Epidemic In India As per latest ICMR study☝️\n",
      "  4. Me to my Brain:- NATURAL SUGAR SE KUCH NAHI HOTA …  India is lacking when it comes to nutritional education and thats why our country is the Diabetic capital of the world\n",
      "  5. Dal and chawal best protein source??\n",
      "\n",
      "🔷 Topic: Blueprint/Recipes (Comment Engagament)\n",
      "  1. Breaking my fast …\n",
      "  2. Comment “Fasting” and i will send you a blueprint of how to do fasting in your inbox  ✅Interested in Paid transformation?? Message me now or Whatsapp me on +919171123324 ✅\n",
      "  3. Comment “Fasting” and i will guide you how to start fasting tips will delivered in your message inbox\n",
      "  4. What happens to your body if you start fasting? In the first 6 hours, your blood sugar levels start to drop. By 12 hours, your human growth hormones increase. At 16 hours, you’ll notice your fat burning process ramps up. At 20 hours, your body achieves autophagy, where it kills off dead cells. The next day, when you reach 36 hours, which I do, autophagy increases by up to 300%. Your body is self-healing. At 48 hours, human growth hormone, which aids muscle building, increases by 500%. At 60 hours, your insulin sensitivity begins to improve. And at 72 hours of fasting, your autophagy significantly increases and your body’s dead cells start to die off. Now, who should you follow? Me, because I provide you with the right knowledge about this.\n",
      "  5. Fasting King 🇮🇳\n",
      "\n",
      "🔷 Topic: Body Recovery & Wellness\n",
      "  1. Icebath ✅\n",
      "  2. Benefits of Ice Bath  Reduces inflammation and swelling. When you take an ice bath, the cold temperature narrows your blood vessels. ... Relieves sore muscles. ... Aids exercise recovery. ... Lowers core body temperature. ... Supports immunity. ... Improves mental health.  #abs #fitness #gym #workout #bodybuilding #fit #fitnessmotivation #motivation #muscle #fitnessmodel #fitfam #gymlife #training #gymmotivation #shredded #instafit #sixpack #model #strong #body #fitnessaddict #fitspo #gains #biceps #lifestyle #cardio #exercise #personaltrainer #health #bodybuilder\n",
      "  3. Thand meh icebath\n",
      "  4. Icebath in winters\n",
      "  5. How ice bath helps you to lose FAT??\n",
      "\n",
      "🔷 Topic: Personal Reflections\n",
      "  1. Posing with ❤️❤️\n",
      "  2. My experience\n",
      "  3. We all know that pain\n",
      "  4. Who all agree??\n",
      "  5. Work hard for your muscles☝️\n",
      "\n",
      "🔷 Topic: Hydration Tips\n",
      "  1. Gyno natural or side effects of steroids\n",
      "  2. Boost your testosterone free with this technique ☝️\n",
      "  3. How to long last on bed??   Comment “Help Me” i will send you food which will raise your testosterone.\n",
      "  4. Sex can increase your testosterone levels\n",
      "  5. Comment “Healthy” and i will send you 5 healthy fats sources which will boost your testosterone  ✅Interested in Paid transformation?? Message me now or Whatsapp me on +919171123324 ✅\n"
     ]
    }
   ],
   "source": [
    "# Number of samples per topic you want to see\n",
    "n_samples = 5\n",
    "\n",
    "# Loop through each topic and print n samples\n",
    "for topic in df_result[\"Topic_Name\"].unique():\n",
    "    print(f\"\\n🔷 Topic: {topic}\")\n",
    "    samples = df_result[df_result[\"Topic_Name\"] == topic][\"Caption\"].sample(n_samples)\n",
    "    for i, caption in enumerate(samples, 1):\n",
    "        print(f\"  {i}. {caption}\")\n"
   ]
  },
  {
   "cell_type": "code",
   "execution_count": 11,
   "id": "254f2a6c",
   "metadata": {},
   "outputs": [],
   "source": [
    "df_result.to_csv(\"caption_topics_labeled.csv\", index=False)\n"
   ]
  }
 ],
 "metadata": {
  "kernelspec": {
   "display_name": "DS",
   "language": "python",
   "name": "python3"
  },
  "language_info": {
   "codemirror_mode": {
    "name": "ipython",
    "version": 3
   },
   "file_extension": ".py",
   "mimetype": "text/x-python",
   "name": "python",
   "nbconvert_exporter": "python",
   "pygments_lexer": "ipython3",
   "version": "3.12.3"
  }
 },
 "nbformat": 4,
 "nbformat_minor": 5
}
