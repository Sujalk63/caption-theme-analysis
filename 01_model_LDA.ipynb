{
 "cells": [
  {
   "cell_type": "code",
   "execution_count": null,
   "id": "8d6f634d",
   "metadata": {},
   "outputs": [],
   "source": [
    "# this file need few corrections on the few last cells [11, 12, 13]\n",
    "\n",
    "\n",
    "import re\n",
    "import string\n",
    "import nltk\n",
    "import regex as re \n",
    "import pandas as pd \n",
    "from nltk.corpus import stopwords\n",
    "from nltk.tokenize import word_tokenize\n",
    "from nltk.tokenize import PunktSentenceTokenizer, word_tokenize"
   ]
  },
  {
   "cell_type": "code",
   "execution_count": 2,
   "id": "4074b467",
   "metadata": {},
   "outputs": [],
   "source": [
    "file_path = r\"C:\\Users\\Sujal Karmakar\\Desktop\\Desktop\\Data Analyst\\Python\\python_data_analytics_project\\Theme Finder Using Caption (NLP)\\Data\\leanbeast_analysis_ready.csv\"\n",
    "\n",
    "df = pd.read_csv(file_path)"
   ]
  },
  {
   "cell_type": "markdown",
   "id": "ad4673a4",
   "metadata": {},
   "source": [
    "#### 1) Basic Cleaning (lower case, remover numbers, emoji, etc)"
   ]
  },
  {
   "cell_type": "code",
   "execution_count": 3,
   "id": "e5b6d281",
   "metadata": {},
   "outputs": [],
   "source": [
    "df_caption = df[\"caption_text\"]"
   ]
  },
  {
   "cell_type": "code",
   "execution_count": 4,
   "id": "4b5473a8",
   "metadata": {},
   "outputs": [],
   "source": [
    "# Function to clean each caption: lowercase, remove punctuation, then remove emojis\n",
    "def clean_caption(text):\n",
    "    if pd.isna(text):\n",
    "        return \"\"\n",
    "    text = text.lower()  # Lowercase\n",
    "\n",
    "    text = re.sub(r\"\\p{P}+\", \"\", text)\n",
    "\n",
    "    # Remove punctuation\n",
    "    text = re.sub(f\"[{re.escape(string.punctuation)}]\", \"\", text)\n",
    "\n",
    "    # Remove emojis\n",
    "    emoji_pattern = re.compile(\n",
    "        \"[\"\n",
    "        \"\\U0001f600-\\U0001f64f\"  # emoticons\n",
    "        \"\\U0001f300-\\U0001f5ff\"  # symbols & pictographs\n",
    "        \"\\U0001f680-\\U0001f6ff\"  # transport & map symbols\n",
    "        \"\\U0001f1e0-\\U0001f1ff\"  # flags (iOS)\n",
    "        \"\\U00002700-\\U000027bf\"  # Dingbats\n",
    "        \"\\U0001f900-\\U0001f9ff\"  # Supplemental Symbols and Pictographs\n",
    "        \"\\U00002600-\\U000026ff\"  # Misc symbols\n",
    "        \"\\U00002b00-\\U00002bff\"  # Misc symbols and arrows\n",
    "        \"\\U0001fa70-\\U0001faff\"  # Symbols and Pictographs Extended-A\n",
    "        \"\\ufe0f\"  # Variation Selector-16 (emoji style)\n",
    "        \"]+\",\n",
    "        flags=re.UNICODE,\n",
    "    )\n",
    "    text = emoji_pattern.sub(r\"\", text)\n",
    "    return text\n",
    "\n",
    "\n",
    "# Apply to the caption column\n",
    "df_caption_cleaned = df_caption.apply(clean_caption)"
   ]
  },
  {
   "cell_type": "code",
   "execution_count": 5,
   "id": "3b59a61e",
   "metadata": {},
   "outputs": [
    {
     "data": {
      "text/plain": [
       "1244    gaining tips  abs fitness gym workout bodybuil...\n",
       "212     comment send and i will send you a sample six ...\n",
       "429      cholesterol is not ur enemy stop getting fooled \n",
       "1072                         worlds smallest bodybuilder \n",
       "1053                                      sunday gym vlog\n",
       "1112    apni asli aukaat khud pehchano people will not...\n",
       "267                       who all does icebath in winters\n",
       "795                                        asli veg khana\n",
       "480                                            chai sugar\n",
       "221     comment healthy and i will message you 5 healt...\n",
       "1044                                              mykonos\n",
       "1323    how a perfect fatloss meal looks   abs fitness...\n",
       "651     couples who exercise togetherstays together  f...\n",
       "852                         high protein zero carbs pizza\n",
       "604     bss itnaa khalokaafi he fitwithiqbal instagram...\n",
       "Name: caption_text, dtype: object"
      ]
     },
     "execution_count": 5,
     "metadata": {},
     "output_type": "execute_result"
    }
   ],
   "source": [
    "df_caption_cleaned.sample(15)"
   ]
  },
  {
   "cell_type": "markdown",
   "id": "38bd25b2",
   "metadata": {},
   "source": [
    "#### 2) Tokenization (removing stop words)"
   ]
  },
  {
   "cell_type": "code",
   "execution_count": 6,
   "id": "4e6e2767",
   "metadata": {},
   "outputs": [],
   "source": [
    "# import nltk\n",
    "\n",
    "# # Define a custom download directory\n",
    "# custom_nltk_path = r'C:\\Users\\Sujal Karmakar\\.conda\\envs\\DS\\nltk_data'\n",
    "\n",
    "# # Download resources to the custom path\n",
    "## nltk.download('punkt', download_dir=custom_nltk_path)\n",
    "# nltk.download('punkt_tab', download_dir=custom_nltk_path)\n",
    "# nltk.download('stopwords', download_dir=custom_nltk_path)\n",
    "\n",
    "# # Manually add the path to NLTK's search locations\n",
    "# nltk.data.path.append(custom_nltk_path)\n",
    "\n",
    "# i had to explicitly download these by specifying files and also punkt was not working for me nltk was demanding punkt_tab so i did that \n"
   ]
  },
  {
   "cell_type": "code",
   "execution_count": 7,
   "id": "b87b9e53",
   "metadata": {},
   "outputs": [
    {
     "name": "stdout",
     "output_type": "stream",
     "text": [
      "0    [well, done, jaibajaj0786, lost, 39kgs, withou...\n",
      "1    [transformation, alert, keen, interested, paid...\n",
      "2    [shredded, mode, manavkansagra1111, guidance, ...\n",
      "3    [comment, atta, send, link, healthy, atta, mes...\n",
      "4    [dinner, date, couple, love, couplegoals, wedd...\n",
      "Name: caption_text, dtype: object\n"
     ]
    }
   ],
   "source": [
    "import nltk\n",
    "from nltk.corpus import stopwords\n",
    "from nltk.tokenize import word_tokenize, sent_tokenize\n",
    "\n",
    "# Set of English stopwords for filtering\n",
    "stop_words = set(stopwords.words(\"english\"))\n",
    "\n",
    "\n",
    "def preprocess_caption(text):\n",
    "    # Handle non-string inputs safely\n",
    "    if not isinstance(text, str):\n",
    "        return []\n",
    "\n",
    "    # Step 1: Sentence tokenize the text\n",
    "    sentences = sent_tokenize(text)\n",
    "\n",
    "    # Step 2: Word tokenize each sentence\n",
    "    tokens = [word_tokenize(sentence) for sentence in sentences]\n",
    "\n",
    "    # Step 3: Flatten the list of token lists into a single list\n",
    "    flat_tokens = [token for sublist in tokens for token in sublist]\n",
    "\n",
    "    # Step 4: Remove stopwords (case-insensitive)\n",
    "    filtered_tokens = [w for w in flat_tokens if w.lower() not in stop_words]\n",
    "\n",
    "    return filtered_tokens\n",
    "\n",
    "\n",
    "df_caption_cleaned_tokens = df_caption_cleaned.apply(preprocess_caption)\n",
    "\n",
    "# Show first few results\n",
    "print(df_caption_cleaned_tokens.head())"
   ]
  },
  {
   "cell_type": "code",
   "execution_count": 8,
   "id": "59549472",
   "metadata": {},
   "outputs": [
    {
     "data": {
      "text/plain": [
       "0       well done jaibajaj0786 lost 39kgs without coun...\n",
       "1       transformation alert   if he keen do it  why n...\n",
       "2       shredded mode on manavkansagra1111 under my gu...\n",
       "3       comment atta and i will send you the link of h...\n",
       "4       dinner date   couple love couplegoals wedding ...\n",
       "                              ...                        \n",
       "1546    lockdown transformation lost 15 kgs in 70 days...\n",
       "1547    shoot mode  modelifefitness gym workout motiva...\n",
       "1548    manage your life  office and work  paid online...\n",
       "1549    throwback to one my client who reduced 38 kgs ...\n",
       "1550    taj mahal is beautiful today gymlife training ...\n",
       "Name: caption_text, Length: 1551, dtype: object"
      ]
     },
     "execution_count": 8,
     "metadata": {},
     "output_type": "execute_result"
    }
   ],
   "source": [
    "df_caption_combined = pd.DataFrame({\n",
    "    \"cleaned_caption\": df_caption_cleaned,\n",
    "    \"tokens\": df_caption_cleaned_tokens\n",
    "})\n",
    "df_caption_cleaned"
   ]
  },
  {
   "cell_type": "markdown",
   "id": "70213a3f",
   "metadata": {},
   "source": [
    "#### 3) Creating dictionaries and corpus for LDA (Linear discriminant analysis)"
   ]
  },
  {
   "cell_type": "code",
   "execution_count": 9,
   "id": "54a7289a",
   "metadata": {},
   "outputs": [
    {
     "name": "stdout",
     "output_type": "stream",
     "text": [
      "1551\n",
      "1551\n",
      "Topic 0: 0.039*\"love\" + 0.034*\"wedding\" + 0.034*\"instagram\" + 0.033*\"happy\" + 0.033*\"like\" + 0.033*\"photography\" + 0.033*\"instagood\" + 0.030*\"photooftheday\" + 0.029*\"beautiful\" + 0.028*\"follow\"\n",
      "Topic 1: 0.070*\"comment\" + 0.049*\"send\" + 0.036*\"sugar\" + 0.022*\"healthy\" + 0.022*\"inbox\" + 0.018*\"link\" + 0.018*\"diet\" + 0.014*\"fasting\" + 0.013*\"meal\" + 0.013*\"high\"\n",
      "Topic 2: 0.019*\"fitness\" + 0.019*\"lifestyle\" + 0.018*\"muscle\" + 0.018*\"fit\" + 0.017*\"fitnessmotivation\" + 0.017*\"training\" + 0.015*\"gym\" + 0.015*\"zero\" + 0.014*\"motivation\" + 0.014*\"gymmotivation\"\n",
      "Topic 3: 0.081*\"hai\" + 0.035*\"meh\" + 0.032*\"nahi\" + 0.024*\"se\" + 0.024*\"kya\" + 0.023*\"body\" + 0.020*\"weight\" + 0.019*\"ka\" + 0.019*\"ki\" + 0.016*\"ye\"\n",
      "Topic 4: 0.044*\"protein\" + 0.034*\"food\" + 0.029*\"u\" + 0.026*\"whey\" + 0.023*\"gym\" + 0.016*\"best\" + 0.015*\"per\" + 0.014*\"ur\" + 0.013*\"get\" + 0.012*\"egg\"\n",
      "Topic 5: 0.034*\"gym\" + 0.031*\"workout\" + 0.031*\"bodybuilding\" + 0.031*\"abs\" + 0.031*\"body\" + 0.031*\"fitness\" + 0.031*\"cardio\" + 0.031*\"muscle\" + 0.030*\"fitnessaddict\" + 0.030*\"lifestyle\"\n",
      "Topic 6: 0.032*\"healthy\" + 0.030*\"gym\" + 0.027*\"healthylifestyle\" + 0.027*\"workout\" + 0.026*\"love\" + 0.026*\"bodybuilding\" + 0.025*\"fitness\" + 0.025*\"lifestyle\" + 0.025*\"training\" + 0.025*\"health\"\n",
      "Topic 7: 0.060*\"protein\" + 0.048*\"message\" + 0.046*\"transformation\" + 0.042*\"paid\" + 0.040*\"whatsapp\" + 0.039*\"interested\" + 0.038*\"veg\" + 0.038*\"919171123324\" + 0.038*\"paneer\" + 0.033*\"comment\"\n",
      "Topic 8: 0.031*\"body\" + 0.030*\"workout\" + 0.025*\"training\" + 0.024*\"muscle\" + 0.023*\"gym\" + 0.023*\"fitness\" + 0.020*\"abs\" + 0.019*\"health\" + 0.019*\"strong\" + 0.017*\"fitnessmodel\"\n",
      "Topic 9: 0.043*\"protein\" + 0.024*\"sugar\" + 0.021*\"ice\" + 0.015*\"hours\" + 0.014*\"source\" + 0.014*\"bath\" + 0.013*\"icebath\" + 0.013*\"benefits\" + 0.013*\"fat\" + 0.013*\"best\"\n"
     ]
    }
   ],
   "source": [
    "import gensim\n",
    "from gensim import corpora\n",
    "from gensim.models.ldamodel import LdaModel\n",
    "\n",
    "# Convert the Series of lists into a list of lists\n",
    "texts = df_caption_cleaned_tokens.tolist()\n",
    "\n",
    "# Create Dictionary: maps each word to a unique id\n",
    "dictionary = corpora.Dictionary(texts)\n",
    "\n",
    "# Filter extremes to remove very rare and very common words (optional but recommended)\n",
    "dictionary.filter_extremes(no_below=5, no_above=0.5)  # keeps words in at least 5 docs but less than 50% of all docs\n",
    "\n",
    "# Create Corpus: list of bags of words for each document\n",
    "corpus = [dictionary.doc2bow(text) for text in texts]\n",
    "\n",
    "print(len(texts))\n",
    "print(len(corpus))\n",
    "# print(f\"Number of unique tokens: {len(dictionary)}\")\n",
    "# print(f\"Number of documents: {len(corpus)}\")\n",
    "# print(f\"Sample doc (bow format): {corpus[0]}\")\n",
    "\n",
    "# Number of topics LDA will find \n",
    "num_topics = 10\n",
    "\n",
    "# Build LDA model\n",
    "lda_model = LdaModel(corpus=corpus, id2word=dictionary, num_topics=num_topics, random_state=42, passes=10)\n",
    "\n",
    "# Show the top words for each topic\n",
    "for idx, topic in lda_model.print_topics(-1):\n",
    "    print(f\"Topic {idx}: {topic}\")\n",
    "\n"
   ]
  },
  {
   "cell_type": "markdown",
   "id": "b54adb39",
   "metadata": {},
   "source": [
    "#### Topic names as per captions.\n",
    "\n",
    "| **Topic #** | **Top Keywords**                             | **Final Topic Name**         | **Why this name fits**                                       |\n",
    "| ----------- | -------------------------------------------- | ---------------------------- | ------------------------------------------------------------ |\n",
    "| **0**       | love, instagram, happy, wedding, photography | `Personal & Lifestyle`       | Captions about daily life, emotions, events (e.g., weddings) |\n",
    "| **1**       | sugar, comment, send, healthy, inbox         | `Diet Tips`                  | Sugar, healthy advice, often CTA-based captions              |\n",
    "| **2**       | muscle, gym, workout, gain, fit              | `Muscle Building & Gym`      | Bodybuilding and gym-focused motivational content            |\n",
    "| **3**       | hai, nahi, se, kya, cheese, meal             | `Meal Talks`                 | Conversational tone, mostly food or meal-related             |\n",
    "| **4**       | best, protein, source, india, egg            | `Protein Sources in Diet`    | Specific food items as sources of protein                    |\n",
    "| **5**       | gym, hai, fitness, bhai, shredded            | `Home Gym & Motivation`      | Desi, motivational gym talk (often home setups)              |\n",
    "| **6**       | healthy, fitness, training, healthylifestyle | `Fitness Lifestyle`          | General health, fitness, and lifestyle-focused tips          |\n",
    "| **7**       | protein, veg, comment, paneer, recipe        | `Vegetarian Protein Recipes` | Vegetarian food-based protein suggestions & recipes          |\n",
    "| **8**       | acid, uric, animal, body, muscle             | `Internal Body Science`      | Concepts like uric acid, testosterone, internal processes    |\n",
    "| **9**       | icebath, creatine, bath, calorie             | `Recovery & Supplements`     | Post-gym recovery, supplements, and routines like ice baths  |\n",
    "| **10**      | workout, gym, abs, muscle, gains             | `Workout Tips`               | Focused on physical training, routines, gym motivation       |\n",
    "| **11**      | transformation, whatsapp, paid, diet         | `Client Results & Services`  | Paid plans, before-after results, WhatsApp CTAs              |\n",
    "| **12**      | body, weight, mass, energy, lean             | `Body Composition & Weight Tips`  | Weight gain/loss, lean muscle, energy balance                |\n",
    "| **13**      | cholesterol, fasting, insulin, comment       | `Health Science`             | Scientific nutrition (cholesterol, fasting, insulin)         |\n",
    "| **14**      | heart, attack, gym, look, lets               | `Heart Health & Awareness`   | Heart care, awareness, lifestyle triggers                    |\n"
   ]
  },
  {
   "cell_type": "code",
   "execution_count": 10,
   "id": "afd3e4fa",
   "metadata": {},
   "outputs": [],
   "source": [
    "dominant_topics = []\n",
    "dominant_topic_probabilities = []\n",
    "\n",
    "for bow in corpus:\n",
    "    if len(bow) == 0:\n",
    "        # Empty bow → assign 'Other'\n",
    "        dominant_topics.append(\"Other\")\n",
    "        dominant_topic_probabilities.append(1.0)\n",
    "    else:\n",
    "        topic_probs = lda_model.get_document_topics(bow)\n",
    "        if len(topic_probs) == 0:\n",
    "            # Just in case, fallback to 'Other'\n",
    "            dominant_topics.append(\"Other\")\n",
    "            dominant_topic_probabilities.append(1.0)\n",
    "        else:\n",
    "            # Pick topic with highest probability\n",
    "            dominant_topic, max_prob = max(topic_probs, key=lambda x: x[1])\n",
    "            dominant_topics.append(dominant_topic)\n",
    "            dominant_topic_probabilities.append(max_prob)\n",
    "\n",
    "# Add to your original df_caption_cleaned_tokens or main DataFrame (same length)\n",
    "df_caption_cleaned_tokens = df_caption_cleaned_tokens.reset_index(drop=True)  # to be safe\n",
    "\n",
    "df_caption_cleaned_tokens = pd.DataFrame(df_caption_cleaned_tokens)  # if not already a DataFrame\n",
    "\n",
    "df_caption_cleaned_tokens['Dominant_Topic'] = dominant_topics\n",
    "df_caption_cleaned_tokens['Dominant_Topic_Prob'] = dominant_topic_probabilities\n"
   ]
  },
  {
   "cell_type": "code",
   "execution_count": 11,
   "id": "df16c287",
   "metadata": {},
   "outputs": [],
   "source": [
    "# Topic name mapping\n",
    "topic_name_mapping = {\n",
    "    0: \"Personal & Lifestyle\",\n",
    "    1: \"Diet Tips\",\n",
    "    2: \"Muscle Building & Gym\",\n",
    "    3: \"Meal Talks\",\n",
    "    4: \"Protein Sources in Diet\",\n",
    "    5: \"Home Gym & Motivation\",\n",
    "    6: \"Fitness Lifestyle\",\n",
    "    7: \"Healthy Recipes\",\n",
    "    8: \"Internal Body Science\",\n",
    "    9: \"Recovery & Supplements\",\n",
    "    10: \"Workout Tips\",\n",
    "    11: \"Client Results & Services\",\n",
    "    12: \"Body Composition & Weight Tips\",\n",
    "    13: \"Health Science\",\n",
    "    14: \"Heart Health & Awareness\",\n",
    "    \"Other\": \"Other / Empty Caption\"\n",
    "}\n",
    "\n",
    "# Apply to the cleaned tokens DataFrame\n",
    "df_caption_cleaned_tokens[\"Topic_Name\"] = df_caption_cleaned_tokens[\"Dominant_Topic\"].map(topic_name_mapping)\n"
   ]
  },
  {
   "cell_type": "code",
   "execution_count": 12,
   "id": "8d39fbb5",
   "metadata": {},
   "outputs": [],
   "source": [
    "# Reset and clean both DataFrames\n",
    "df_caption = df_caption.reset_index(drop=True)\n",
    "df_topic_info = df_caption_cleaned_tokens[[\"Dominant_Topic\", \"Dominant_Topic_Prob\", \"Topic_Name\"]]\n",
    "\n",
    "# Join the topic info with original captions\n",
    "df_with_topics = df_caption.to_frame(name=\"Original_Caption\").join(df_topic_info)\n",
    "\n"
   ]
  },
  {
   "cell_type": "code",
   "execution_count": 13,
   "id": "82844fe1",
   "metadata": {},
   "outputs": [
    {
     "name": "stdout",
     "output_type": "stream",
     "text": [
      "\n",
      "🔹 Topic: Meal Talks\n",
      " - Body meh investment se accha investment aur koi nahi kyo:- 1. App healthy rehte ho 2. 4-5 log tariff kar dete hai. 3. Personal and professional life meh aap taraki karte ho. 4 . Will power strong hoti hai. 5. Kabhi haar nahi maante 6. Tabiyat kam kharab hoti hai\n",
      " - Muscle gain karne meh kitna time lagta hai\n",
      " - Natural vs steroids body diff\n",
      " - Turned 36 years young❤️\n",
      " - Gym karne ki umar nikal gai hai\n",
      "\n",
      "🔹 Topic: Healthy Recipes\n",
      " - Nakli paneer pakda gaya☠️\n",
      " - Comment “Eggs” and i will send the recipe of egg bhurji .  ✅Interested in Paid transformation?? Message me now or Whatsapp me on +919171123324 ✅\n",
      " - Comment, “avocado” and I will send you the recipe of amazing avocado spread.\n",
      " - Common “fasting” and I will send you a blueprint of how to start fasting and implement it forever.  ✅Interested in Paid transformation?? Message me now or Whatsapp me on +919171123324 ✅\n",
      " - Comment “diet” to know about his diet’s blueprint  ✅Interested in Paid transformation?? Message me now or Whatsapp me on +919171123324 ✅\n",
      "\n",
      "🔹 Topic: Internal Body Science\n",
      " - Manish bhai lost 13 kgs in 3 months and is now gaining muscles on keto under my guidance..  WHAT ARE YOU GUYS WAITING FOR ??  Enroll in Paid Transformation from @iamleanbeastt_eng @iamleanbeastt ..  #abs #fitness #gym #workout #bodybuilding #fit #fitnessmotivation #motivation #muscle #fitnessmodel #fitfam #gymlife #training #gymmotivation #shredded #instafit #sixpack #model #strong #body #fitnessaddict #fitspo #gains #biceps #lifestyle #cardio #exercise #personaltrainer #health #bodybuilder\n",
      " - Manage your LIFE .. office and work ... Paid Online transformation Program avaliable includes workout and diet customized for your body. Email or DM  Your coach @lean_beastt 🇮🇳 #fitness #gym #workout #motivation #fitnessmotivation #fit #fitfam #muscle #gymlife #training #bodybuilder #fitnessmodel #lifestyle #fitspo #gains #gymmotivation #health #powerlifting #instafit #personaltrainer #strong #healthy #fitnessaddict #abs #shredded#bodybuildingmotivation\n",
      " - BULK BEASTT VS LEAN BEASTT  Getting Closer to my goals ... now in bulk mode soon i will be lean...  I AM PROUD OF MY SAGGY SKIN😇😇  Which body type you prefer😀\n",
      " - Lockdown Transformation lost 15 kgs in 70 days @mukul99goswami Well done bro💪🏻 ————————————————————————— Paid Online transformation Program avaliable includes workout and diet customized for your body. Email or DM  Your coach @lean_beastt 🇮🇳 #fitness #gym #workout #motivation #fitnessmotivation #fit #fitfam #muscle #gymlife #training #bodybuilder #fitnessmodel #lifestyle #fitspo #gains #gymmotivation #health #powerlifting #instafit #personaltrainer #strong #healthy #fitnessaddict #abs #shredded#bodybuildingmotivation\n",
      " - Well done @bhupi_saluja … my client for last 5 months and now a friend paaji is looking beast👍👍🫡\n",
      "\n",
      "🔹 Topic: Diet Tips\n",
      " - Comment “fasting” and I will send you a blueprint of how to start fasting and achieve autophagy later.\n",
      " - Comment “Food” and I will send you list of all real food, which will lower your blood sugar level and will not make you feel hungry for a long time\n",
      " - May his soul RIP\n",
      " - Comment “cream” and I will send you the recipe of zero sugar cream which state is almost equal to sugar cream.  Purchase original supplement from @qnt.india and use my coupon “QNTEKANSH” to get discount .\n",
      " - Butter during fatloss\n",
      "\n",
      "🔹 Topic: Personal & Lifestyle\n",
      " - Beauty & The Beast❤️❤️\n",
      " - Fake supplements exposed @zeenews\n",
      " - Barf Wali Holi❤️🧿❤️ #holi #holifestival #happyholi #festival #india #holihai #love #instagram #colours #instagood #festivalofcolors #holicelebration #colors #photography #indianfestival #holiday #holifest #holifestivalofcolours #festivalofcolours #holiparty #mumbai #trending #holipowder #color #happy #holispecial #bhfyp #diwali #like #celebration\n",
      " - Beast mode 💪🏻💪🏻💪🏻\n",
      " - Dinner Date ❤️🧿❤️🥂  #couple #love #couplegoals #wedding #photography #couples #instagood #instagram #cute #bride #happy #weddingphotography #photooftheday #like #relationshipgoals #kiss #beautiful #couplelove #family #prewedding #explore #follow #loveyou #fashion #relationship #lovequotes #weddingday #viral #art #trending\n",
      "\n",
      "🔹 Topic: Muscle Building & Gym\n",
      " - WHEN SHE’S GOT YOUR BACK❤️🤞🏻❤️  #fitcouple #fitness #couplegoals #fitnessmotivation #fit #love #fitfam #workout #motivation #bodybuilding #gym #couple #fitlife #fitgirl #gymlife #healthylifestyle #training #fitnessjourney #fitcouplegoals #fitmom #muscle #fitspo #lifestyle #fitnessmodel #instafit #fitnessaddict #gymmotivation #personaltrainer #healthy #bhfyp\n",
      " - Biggest question can anyone answer🤡😀\n",
      " - Face care treatment started …\n",
      " - Restaurant scam ☠️☠️\n",
      " - Glucose for brain ??\n",
      "\n",
      "🔹 Topic: Protein Sources in Diet\n",
      " - Ohh bhai saab mehnat🙏\n",
      " - Do i give a damm about them??? Never\n",
      " - Push day at home: where the gym is always open and the mirror never lies. #HomeGymVibes”\n",
      " - Whey protein is must when you travel\n",
      " - Egg yolks will raise cholestrol @aesthetiic_rahul\n",
      "\n",
      "🔹 Topic: Home Gym & Motivation\n",
      " - Superset for arms must try ⚠️‼️ #abs #fitness #gym #workout #bodybuilding #fit #fitnessmotivation #motivation #muscle #fitnessmodel #fitfam #gymlife #training #gymmotivation #shredded #instafit #sixpack #model #strong #body #fitnessaddict #fitspo #gains #biceps #lifestyle #cardio #exercise #personaltrainer #health #bodybuilder\n",
      " - 3 ingredients which helps you lower your blood sugar levels…   #abs #fitness #gym #workout #bodybuilding #fit #fitnessmotivation #motivation #muscle #fitnessmodel #fitfam #gymlife #training #gymmotivation #shredded #instafit #sixpack #model #strong #body #fitnessaddict #fitspo #gains #biceps #lifestyle #cardio #exercise #personaltrainer #health #bodybuilder\n",
      " - Let me know your views are weighted squats important??  I am talking about my experience…  Weighted squats are good but in my opinion not safe as most people lacks that form…  Better option is leg press #abs #fitness #gym #workout #bodybuilding #fit #fitnessmotivation #motivation #muscle #fitnessmodel #fitfam #gymlife #training #gymmotivation #shredded #instafit #sixpack #model #strong #body #fitnessaddict #fitspo #gains #biceps #lifestyle #cardio #exercise #personaltrainer #health #bodybuilder\n",
      " - @lakshay_gg lost 70 kgs in 9 months and is now on keto under my guidance target weight 70kgs in 9 Months..  #abs #fitness #gym #workout #bodybuilding #fit #fitnessmotivation #motivation #muscle #fitnessmodel #fitfam #gymlife #training #gymmotivation #shredded #instafit #sixpack #model #strong #body #fitnessaddict #fitspo #gains #biceps #cardio #lifestyle #personaltrainer #exercise #health #bodybuilder\n",
      " - Bahut NEAT karwata hai ye ..  NEAT allows the body to burn more calories while doing daily activities. This does not include workouts, sports or any other form of intentional exercise. NEAT is affected by various factors like age, gender, genetics, body composition, weight and occupation  #abs #fitness #gym #workout #bodybuilding #fit #fitnessmotivation #motivation #muscle #fitnessmodel #fitfam #gymlife #training #gymmotivation #shredded #instafit #sixpack #model #strong #body #fitnessaddict #fitspo #gains #biceps #lifestyle #cardio #exercise #personaltrainer #health #bodybuilder\n",
      "\n",
      "🔹 Topic: Recovery & Supplements\n",
      " - Fan AC chala ke fat loss??\n",
      " - 24 hours fasting done …\n",
      " - Sugar craving drink u all should try… its an antidot to sugar …\n",
      " - Cupping benefits are the following:  Release scar tissue and fascial adhesions Reduce painful trigger points Improve circulation, blood and lymph circulation Relieve pain Promote mobility and range of motion Improves mature scars Decrease toxins\n",
      " - Fondue is a Swiss melted cheese and wine dish served in a communal pot over a portable stove heated with a candle or spirit lamp, and eaten by dipping bread and sometimes vegetables into the cheese using long-stemmed forks. It was promoted as a Swiss national dish by the Swiss Cheese Union in the 1930s, and was popularized in North America in the 1960s.\n",
      "\n",
      "🔹 Topic: Other / Empty Caption\n",
      " - This is micronutrient ..\n",
      " - Lovely resort\n",
      " - @statue.of.belief 🕉️🕉️\n",
      " - Bali 2017\n",
      " - Portion dekho bhaiyoo\n",
      "\n",
      "🔹 Topic: Fitness Lifestyle\n",
      " - Have you done that kaminapanti in gym?🤪THEN TAG YOUR GYM CRUSH/GF/BF/LOVER❤️ @iamleanbeastt ❤️  #fitness #gym #workout #fitnessmotivation #fit #motivation #bodybuilding #training #health #love #lifestyle #instagood #fitfam #healthylifestyle #sport #gymlife #healthy #instagram #personaltrainer #follow #crossfit #gymmotivation #fitnessmodel #muscle #like #fashion #exercise #life #bhfyp #bhfyp\n",
      " - Well done lost 10kgs in 6 weeks my client @vishalpandey1170   #transformation #fitness #motivation #weightloss #fitnessmotivation #gym #workout #weightlossjourney #fit #love #bodybuilding #beforeandafter #health #healthylifestyle #fitfam #goals #inspiration #weightlosstransformation #lifestyle #healthy #nutrition #selflove #diet #training #fitnessjourney #fatloss #beauty #personaltrainer #exercise #muscle\n",
      " - My fav cardio 😎…   Follow @iamleanbeast_india @ekanshjayaswalfitness @leanbeast_reacts\n",
      " - No more Gym for 8 months ..??\n",
      " - Creatine lele ka sahi time ..   #transformation #fitness #motivation #weightloss #fitnessmotivation #gym #workout #weightlossjourney #fit #love #bodybuilding #beforeandafter #health #healthylifestyle #fitfam #goals #inspiration #weightlosstransformation #lifestyle #healthy #nutrition #selflove #diet #training #fitnessjourney #fatloss #beauty #personaltrainer #exercise #muscle\n"
     ]
    }
   ],
   "source": [
    "# Show sample captions for each topic\n",
    "for topic in df_with_topics[\"Topic_Name\"].unique():\n",
    "    print(f\"\\n🔹 Topic: {topic}\")\n",
    "    sample = df_with_topics[df_with_topics[\"Topic_Name\"] == topic].sample(5)\n",
    "    for i, row in sample.iterrows():\n",
    "        print(f\" - {row['Original_Caption']}\")\n"
   ]
  }
 ],
 "metadata": {
  "kernelspec": {
   "display_name": "DS",
   "language": "python",
   "name": "python3"
  },
  "language_info": {
   "codemirror_mode": {
    "name": "ipython",
    "version": 3
   },
   "file_extension": ".py",
   "mimetype": "text/x-python",
   "name": "python",
   "nbconvert_exporter": "python",
   "pygments_lexer": "ipython3",
   "version": "3.12.3"
  }
 },
 "nbformat": 4,
 "nbformat_minor": 5
}
